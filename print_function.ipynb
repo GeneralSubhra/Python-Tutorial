{
 "cells": [
  {
   "cell_type": "code",
   "execution_count": 1,
   "id": "cc555e8f",
   "metadata": {},
   "outputs": [
    {
     "name": "stdout",
     "output_type": "stream",
     "text": [
      "Hello world\n"
     ]
    }
   ],
   "source": [
    " print(\"Hello world\")"
   ]
  },
  {
   "cell_type": "code",
   "execution_count": 2,
   "id": "f6ae54f9",
   "metadata": {},
   "outputs": [
    {
     "name": "stdout",
     "output_type": "stream",
     "text": [
      "10\n"
     ]
    }
   ],
   "source": [
    "print(10)"
   ]
  },
  {
   "cell_type": "code",
   "execution_count": 3,
   "id": "a9e93b62",
   "metadata": {},
   "outputs": [
    {
     "name": "stdout",
     "output_type": "stream",
     "text": [
      "9.8\n"
     ]
    }
   ],
   "source": [
    "print(9.8)"
   ]
  },
  {
   "cell_type": "code",
   "execution_count": 4,
   "id": "6aa0eed7",
   "metadata": {},
   "outputs": [
    {
     "name": "stdout",
     "output_type": "stream",
     "text": [
      "False\n"
     ]
    }
   ],
   "source": [
    "print(False)"
   ]
  },
  {
   "cell_type": "code",
   "execution_count": 5,
   "id": "4067cd96",
   "metadata": {},
   "outputs": [
    {
     "name": "stdout",
     "output_type": "stream",
     "text": [
      "apple mango pineapple\n"
     ]
    }
   ],
   "source": [
    "print(\"apple\",\"mango\",\"pineapple\")"
   ]
  },
  {
   "cell_type": "code",
   "execution_count": 6,
   "id": "c950300d",
   "metadata": {},
   "outputs": [
    {
     "name": "stdout",
     "output_type": "stream",
     "text": [
      "apple 7 False\n"
     ]
    }
   ],
   "source": [
    "print(\"apple\",7,False)"
   ]
  },
  {
   "cell_type": "code",
   "execution_count": 7,
   "id": "889d4571",
   "metadata": {},
   "outputs": [
    {
     "name": "stdout",
     "output_type": "stream",
     "text": [
      "apple/mango/pineapple\n"
     ]
    }
   ],
   "source": [
    "print(\"apple\",\"mango\",\"pineapple\",sep='/')"
   ]
  },
  {
   "cell_type": "code",
   "execution_count": 8,
   "id": "7c5cc8cc",
   "metadata": {},
   "outputs": [
    {
     "name": "stdout",
     "output_type": "stream",
     "text": [
      "apple-mango-pineapple\n"
     ]
    }
   ],
   "source": [
    "print(\"apple\",\"mango\",\"pineapple\",sep='-')"
   ]
  },
  {
   "cell_type": "code",
   "execution_count": 9,
   "id": "aa39f54e",
   "metadata": {},
   "outputs": [
    {
     "name": "stdout",
     "output_type": "stream",
     "text": [
      "hello\n",
      "guys\n"
     ]
    }
   ],
   "source": [
    "print(\"hello\")\n",
    "print(\"guys\")"
   ]
  },
  {
   "cell_type": "code",
   "execution_count": 12,
   "id": "66ae2206",
   "metadata": {},
   "outputs": [
    {
     "name": "stdout",
     "output_type": "stream",
     "text": [
      "hello-guys\n"
     ]
    }
   ],
   "source": [
    "print(\"hello\",end='-')\n",
    "print(\"guys\")"
   ]
  },
  {
   "cell_type": "code",
   "execution_count": null,
   "id": "70f9ace9",
   "metadata": {},
   "outputs": [],
   "source": []
  }
 ],
 "metadata": {
  "kernelspec": {
   "display_name": "Python 3 (ipykernel)",
   "language": "python",
   "name": "python3"
  },
  "language_info": {
   "codemirror_mode": {
    "name": "ipython",
    "version": 3
   },
   "file_extension": ".py",
   "mimetype": "text/x-python",
   "name": "python",
   "nbconvert_exporter": "python",
   "pygments_lexer": "ipython3",
   "version": "3.9.12"
  }
 },
 "nbformat": 4,
 "nbformat_minor": 5
}
